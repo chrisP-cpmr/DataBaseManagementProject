{
 "cells": [
  {
   "cell_type": "code",
   "execution_count": 4,
   "metadata": {},
   "outputs": [
    {
     "name": "stdout",
     "output_type": "stream",
     "text": [
      "[('CompletedItMate', 'Grand Theft Auto V')]\n"
     ]
    }
   ],
   "source": [
    "import urllib.request\n",
    "import requests\n",
    "import json\n",
    "\n",
    "CLIENT_ID     = \"to8ow3xtzqkxp60zfhlhgvysnkpyok\"\n",
    "CLIENT_SECRET = \"parnseb575pbwbg0bw16ci0pdezjvt\"\n",
    "\n",
    "def make_request(URL):\n",
    "    header    = {\"Client-ID\": CLIENT_ID, \"Authorization\": f\"Bearer {get_access_token()}\" }\n",
    "\n",
    "    req  = urllib.request.Request(URL, headers=header)\n",
    "    recv = urllib.request.urlopen(req)\n",
    "    \n",
    "    return json.loads(recv.read().decode(\"utf-8\"))\n",
    "\n",
    "def get_access_token():\n",
    "    x = requests.post(f\"https://id.twitch.tv/oauth2/token?client_id={CLIENT_ID}&client_secret={CLIENT_SECRET}&grant_type=client_credentials\")\n",
    "\n",
    "    return json.loads(x.text)[\"access_token\"]\n",
    "\n",
    "    \n",
    "def get_current_online_streams():\n",
    "    streamer  = [\n",
    "        \"h0llylp\", \n",
    "        \"lookslikelinklive\", \n",
    "        \"Quis_der_Barde\",\n",
    "        \"nilaus\", \n",
    "        \"linkus7\", \n",
    "        \"gymnast86\", \n",
    "        \"javidx9\", \n",
    "        \"marmeladenoma\",\n",
    "        \"hashinshin\",\n",
    "        \"lessqqll\",\n",
    "        \"Jukeyz\",\n",
    "        \"CompletedItMate\",\n",
    "        \"TFue\"\n",
    "    ]\n",
    "\n",
    "    URL            = \"https://api.twitch.tv/helix/streams?user_login=\"\n",
    "    resps          = []\n",
    "    online_streams = []\n",
    "\n",
    "    for name in streamer:\n",
    "        resps.append(make_request(URL + name))\n",
    "\n",
    "    GAME_URL = \"https://api.twitch.tv/helix/games?id=\"\n",
    "    for i, r in enumerate(resps, 0):\n",
    "        if r[\"data\"]:\n",
    "            game_id   = r[\"data\"][0][\"game_id\"]\n",
    "            game_resp = make_request(GAME_URL + game_id) \n",
    "            game_name = game_resp[\"data\"][0][\"name\"]\n",
    "            online_streams.append((streamer[i], game_name))\n",
    "    \n",
    "    return online_streams\n",
    "\n",
    "def main():\n",
    "    print(get_current_online_streams())\n",
    "\n",
    "\n",
    "\n",
    "if __name__ == \"__main__\":\n",
    "    main()"
   ]
  },
  {
   "cell_type": "code",
   "execution_count": null,
   "metadata": {},
   "outputs": [],
   "source": []
  }
 ],
 "metadata": {
  "kernelspec": {
   "display_name": "Python 3",
   "language": "python",
   "name": "python3"
  },
  "language_info": {
   "codemirror_mode": {
    "name": "ipython",
    "version": 3
   },
   "file_extension": ".py",
   "mimetype": "text/x-python",
   "name": "python",
   "nbconvert_exporter": "python",
   "pygments_lexer": "ipython3",
   "version": "3.8.5"
  }
 },
 "nbformat": 4,
 "nbformat_minor": 4
}
